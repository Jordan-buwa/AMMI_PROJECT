{
  "cells": [
    {
      "cell_type": "markdown",
      "metadata": {
        "id": "MkYYtX6Ktz35"
      },
      "source": [
        "# Ex1:\n",
        "\n",
        "Declare a destroy_elements function that accepts two lists.\n",
        "It should return a list of all elements from the first list that are NOT contained in the second list.\n",
        " Use list comprehension in your solution.\n",
        "\n",
        " EXAMPLES\n",
        "* destroy_elements([1, 2, 3], [1, 2])      => [3]\n",
        "* destroy_elements([1, 2, 3], [1, 2, 3])   => []\n",
        "* destroy_elements([1, 2, 3], [4, 5])      => [1, 2, 3]"
      ]
    },
    {
      "cell_type": "code",
      "execution_count": null,
      "metadata": {
        "colab": {
          "base_uri": "https://localhost:8080/"
        },
        "id": "2sGz_vlgt0cU",
        "outputId": "22bc2787-8847-4bd5-ff49-3726e74ad9db"
      },
      "outputs": [
        {
          "name": "stdout",
          "output_type": "stream",
          "text": [
            "[3] [] [1, 2, 3]\n"
          ]
        }
      ],
      "source": [
        "def destroy_elements(l1,l2):\n",
        "  t = [elt for elt in l1 if (elt not in l2)]\n",
        "  return t\n",
        "a = destroy_elements([1, 2, 3], [1, 2])\n",
        "b = destroy_elements([1, 2, 3], [1, 2, 3])\n",
        "c = destroy_elements([1, 2, 3], [4, 5])\n",
        "print(a, b, c)"
      ]
    },
    {
      "cell_type": "markdown",
      "metadata": {
        "id": "UZq_NOou7ke9"
      },
      "source": [
        "# Ex2 (Majority element)\n",
        "Given an array nums of size n, return the majority element.\n",
        "\n",
        "The majority element is the element that appears more than ⌊n / 2⌋ times. You may assume that the majority element always exists in the array.\n",
        "\n",
        "Input: nums = [2,2,1,1,1,2,2] <br>\n",
        "Output: 2"
      ]
    },
    {
      "cell_type": "code",
      "execution_count": null,
      "metadata": {
        "colab": {
          "base_uri": "https://localhost:8080/"
        },
        "id": "xVn5x3Jas6W6",
        "outputId": "f22e4b76-4f3c-4359-cd29-4bc7b775780b"
      },
      "outputs": [
        {
          "data": {
            "text/plain": [
              "2"
            ]
          },
          "execution_count": 2,
          "metadata": {},
          "output_type": "execute_result"
        }
      ],
      "source": [
        "# Write your code here\n",
        "def majorityElement(nums):\n",
        "  count = nums.count(nums[0])\n",
        "  elt = nums[0]\n",
        "  for i in range(len(nums)):\n",
        "    if nums.count(nums[i]) >= count:\n",
        "      count = nums.count(nums[i])\n",
        "      elt = nums[i]\n",
        "  return elt\n",
        "\n",
        "nums = [2,2,1,1,1,2,2]\n",
        "majorityElement(nums)"
      ]
    },
    {
      "cell_type": "markdown",
      "metadata": {
        "id": "puVxPeZP9IGO"
      },
      "source": [
        "# Ex3:\n",
        "\n",
        "Given an integer array nums, return true if any value appears at least twice in the array, and return false if every element is distinct.\n",
        "\n",
        "Input: nums = [1,2,3,1] <br>\n",
        "Output: true"
      ]
    },
    {
      "cell_type": "code",
      "execution_count": null,
      "metadata": {
        "colab": {
          "base_uri": "https://localhost:8080/"
        },
        "id": "Ma6zH-6NuJ4d",
        "outputId": "d9ae23f3-efeb-4abb-a490-53b534cf0e55"
      },
      "outputs": [
        {
          "data": {
            "text/plain": [
              "False"
            ]
          },
          "execution_count": 8,
          "metadata": {},
          "output_type": "execute_result"
        }
      ],
      "source": [
        "# Write your code here\n",
        "def containsDuplicate(nums):\n",
        "  if (len(nums) == 0) | (type(nums) is not list):\n",
        "    print(\"Argument should be non-empty list\")\n",
        "  else:  \n",
        "    val = False\n",
        "    for i in range(len(nums)):\n",
        "      if nums.count(nums[i]) > 1:\n",
        "        return not val\n",
        "        break\n",
        "  return val \n",
        "nums = [1,2,3,4]\n",
        "containsDuplicate(nums)"
      ]
    },
    {
      "cell_type": "markdown",
      "metadata": {
        "id": "rVd-qLroC36V"
      },
      "source": [
        "# Ex4:\n",
        "Write a factors function that accepts a positive whole number\n",
        "It should return a list of all of the number's factors in ascending order\n",
        " HINT: Could the range function be helpful here? Or maybe a while loop?\n",
        "EXAMPLES\n",
        "\n",
        "* factors(1)  => [1]\n",
        "* factors(2)  => [1, 2]\n",
        "* factors(10) => [1, 2, 5, 10]\n",
        "* factors(64) => [1, 2, 4, 8, 16, 32, 64]\n"
      ]
    },
    {
      "cell_type": "code",
      "execution_count": null,
      "metadata": {
        "colab": {
          "base_uri": "https://localhost:8080/"
        },
        "id": "D0yaEPVHuczY",
        "outputId": "6bd141c3-d4df-4e57-dc22-e1091e34b3c0"
      },
      "outputs": [
        {
          "name": "stdout",
          "output_type": "stream",
          "text": [
            "[1]\n",
            "[1, 2]\n",
            "[1, 2, 5, 10]\n",
            "[1, 2, 4, 8, 16, 32, 64]\n"
          ]
        }
      ],
      "source": [
        "# Write your code here\n",
        "\n",
        "def factors(n):\n",
        "  i = 1\n",
        "  l = []\n",
        "  while (i <= n):\n",
        "    if (n % i == 0):\n",
        "      l.append(i)\n",
        "    i += 1\n",
        "  return l\n",
        "print(factors(1))\n",
        "print(factors(2))\n",
        "print(factors(10))\n",
        "print(factors(64))"
      ]
    },
    {
      "cell_type": "markdown",
      "metadata": {
        "id": "h4ErNY7uG5xR"
      },
      "source": [
        "#Ex5:\n",
        "Write a Python function that takes a positive integer as input and returns the sum of the squares of all the positive integers up to that number."
      ]
    },
    {
      "cell_type": "code",
      "execution_count": null,
      "metadata": {
        "colab": {
          "base_uri": "https://localhost:8080/"
        },
        "id": "ocvQN8hUubSr",
        "outputId": "0c675804-88e9-4b7a-f977-b9c8d686ccb1"
      },
      "outputs": [
        {
          "name": "stdout",
          "output_type": "stream",
          "text": [
            "30\n"
          ]
        }
      ],
      "source": [
        "# Write your code here\n",
        "\n",
        "def Sum_Squared(n):\n",
        "  s = 0\n",
        "  for i in range(1,n+1):\n",
        "    s += i**2\n",
        "  return s\n",
        "\n",
        "print(Sum_Squared(4))"
      ]
    },
    {
      "cell_type": "markdown",
      "metadata": {
        "id": "88GfmnrlHVqu"
      },
      "source": [
        "#Ex6:\n",
        "Create a list of tuples, where each tuple represents a person with a name and age. Sort the list based on the age of the individuals."
      ]
    },
    {
      "cell_type": "code",
      "execution_count": null,
      "metadata": {
        "colab": {
          "base_uri": "https://localhost:8080/"
        },
        "id": "CHmcYjf4uu8N",
        "outputId": "26ec9597-d7f3-4528-f082-cb92125bde4f"
      },
      "outputs": [
        {
          "name": "stdout",
          "output_type": "stream",
          "text": [
            "[('Rita', 19), ('Fanta', 21), ('Prince', 22), ('Amina', 24), ('Leslie', 25), ('Jean', 26)]\n"
          ]
        },
        {
          "data": {
            "text/plain": [
              "['Amina', 'Fanta', 'Leslie', 'Jean', 'Prince', 'Rita']"
            ]
          },
          "execution_count": 28,
          "metadata": {},
          "output_type": "execute_result"
        }
      ],
      "source": [
        "# Write your code here\n",
        "\n",
        "def sort_tuple_list(l):\n",
        "  '''\n",
        "  l here represent a list of tuple\n",
        "  eg: l = [('Amina', 24), ('Fanta', 21), ('Leslie', 25), ('Jean', 26), ('Prince', 22)]\n",
        "  '''\n",
        "  ages = [elt[1] for elt in l]\n",
        "  ages.sort()\n",
        "\n",
        "  new_l = []\n",
        "\n",
        "  for i in range(len(ages)):\n",
        "    m = l[i][0]\n",
        "    for j in range(len(ages)):\n",
        "      if l[j][1] == ages[i]:\n",
        "        m = l[j][0]\n",
        "    new_l.append((m, ages[i]))\n",
        "  return new_l\n",
        "\n",
        "l = [('Amina', 24), ('Fanta', 21), ('Leslie', 25), ('Jean', 26), ('Prince', 22), ('Rita', 19)]\n",
        "print(sort_tuple_list(l))\n",
        "names = [m[0] for m in l]\n",
        "\n",
        "names"
      ]
    },
    {
      "cell_type": "markdown",
      "metadata": {
        "id": "-2cOhkMwHIg4"
      },
      "source": [
        "#Ex7:\n",
        "Write a function that takes a list of words and a minimum length, and returns a new list containing only the words that are longer than the specified length."
      ]
    },
    {
      "cell_type": "code",
      "execution_count": null,
      "metadata": {
        "colab": {
          "base_uri": "https://localhost:8080/"
        },
        "id": "JObqLzcWvJds",
        "outputId": "76c7c8d8-87a5-4eb0-de26-fdd039191bb8"
      },
      "outputs": [
        {
          "data": {
            "text/plain": [
              "['Leslie', 'Prince']"
            ]
          },
          "execution_count": 32,
          "metadata": {},
          "output_type": "execute_result"
        }
      ],
      "source": [
        "# Write your code here\n",
        "\n",
        "def k_words_in_list(l, k):\n",
        "  v = [elt for elt in l if (len(elt) >= k)]\n",
        "  return v\n",
        "k_words_in_list(names, 6)"
      ]
    },
    {
      "cell_type": "markdown",
      "metadata": {
        "id": "0ZS6BKpEDu9x"
      },
      "source": [
        "# Ex8:\n",
        "Declare a delete_all function that accepts a list and a target\n",
        "Remove all occurrences of the target  from the list and return it\n",
        "\n",
        "EXAMPLES\n",
        "* delete_all([1, 3, 5], 3)  => [1, 5]\n",
        "* delete_all([5, 3, 5], 5)  => [3]\n",
        "* delete_all([4, 4, 4], 4)  => []\n",
        "* delete_all([4, 4, 4], 6)  => [4, 4, 4]"
      ]
    },
    {
      "cell_type": "code",
      "execution_count": null,
      "metadata": {
        "colab": {
          "base_uri": "https://localhost:8080/"
        },
        "id": "iKKREE4XvyWL",
        "outputId": "fb0670dc-1170-40cb-cb5b-bb61cd32d427"
      },
      "outputs": [
        {
          "name": "stdout",
          "output_type": "stream",
          "text": [
            "[4, 4, 4]\n",
            "[]\n",
            "[3]\n",
            "[1, 5]\n"
          ]
        }
      ],
      "source": [
        "# Write your code here\n",
        "\n",
        "def delete_all(l, target):\n",
        "  i = 0\n",
        "  while (i < len(l)):\n",
        "    a = l[i]\n",
        "    if a == target:\n",
        "      l.remove(a)\n",
        "      i -= 1\n",
        "    i += 1\n",
        "  return l\n",
        "print(delete_all([4, 4, 4], 6))\n",
        "print(delete_all([4, 4, 4], 4))\n",
        "print(delete_all([5, 3, 5], 5))\n",
        "print(delete_all([1, 3, 5], 3))"
      ]
    },
    {
      "cell_type": "markdown",
      "metadata": {
        "id": "R4dKFHA6D4-m"
      },
      "source": [
        "# Ex9:\n",
        "\n",
        "Define an encrypt_message function that accepts a string.\n",
        " The input string will consist of only alphabetic characters.\n",
        " The function should return a string where all characters have been moved\n",
        " \"up\" two spots in the alphabet. For example, \"a\" will become \"c\".\n",
        "\n",
        " EXAMPLES\n",
        "* encrypt_message(\"abc\") =&gt; \"cde\"\n",
        "* encrypt_message(\"xyz\") =&gt; \"zab\"\n",
        "* encrypt_message(\"\")    =&gt; \"\"\n",
        "\n",
        "* bonus:  can you write a function to decrypt the encrypted message :)"
      ]
    },
    {
      "cell_type": "code",
      "execution_count": null,
      "metadata": {
        "colab": {
          "base_uri": "https://localhost:8080/"
        },
        "id": "b-Vd-7NUv2LA",
        "outputId": "6e207234-dde1-404b-bb69-5bb3f2411487"
      },
      "outputs": [
        {
          "name": "stdout",
          "output_type": "stream",
          "text": [
            "cde\n",
            "zab\n",
            "\n"
          ]
        }
      ],
      "source": [
        "# Write your code here\n",
        "\n",
        "def encrypt_message(s):\n",
        "  alphabet = \"abcdefghijklmnopqrstuvwxyz\"\n",
        "  alph = list(alphabet)\n",
        "  n = len(alph)\n",
        "  dic = {}\n",
        "\n",
        "  for i in range(n):\n",
        "    dic[alph[i]]=i\n",
        "\n",
        "\n",
        "  k = [key for key,val in dic.items()]\n",
        "  i = 0\n",
        "  f = ''\n",
        "  while(i <= len(s)-1):\n",
        "    a = k[(dic[s[i]]+2)%26]\n",
        "    f += a  # s = s.replace(s[i],a,1)\n",
        "    i += 1\n",
        "  return f\n",
        "\n",
        " # print(alph)\n",
        "print(encrypt_message(\"abc\"))\n",
        "print(encrypt_message(\"xyz\"))\n",
        "print(encrypt_message(\"\"))"
      ]
    },
    {
      "cell_type": "code",
      "execution_count": null,
      "metadata": {
        "colab": {
          "base_uri": "https://localhost:8080/"
        },
        "id": "vAzYPkpdIbcS",
        "outputId": "cabf3446-b0e6-4723-8276-70f94fdb986d"
      },
      "outputs": [
        {
          "name": "stdout",
          "output_type": "stream",
          "text": [
            "abc\n",
            "xyz\n",
            "\n"
          ]
        }
      ],
      "source": [
        "def decrypt_message(s):\n",
        "  alphabet = \"abcdefghijklmnopqrstuvwxyz\"\n",
        "  alph = list(alphabet)\n",
        "  n = len(alph)\n",
        "  dic = {}\n",
        "\n",
        "  for i in range(n):\n",
        "    dic[alph[i]]=i\n",
        "\n",
        "\n",
        "  k = [key for key,val in dic.items()]\n",
        "  i = 0\n",
        "  f = ''\n",
        "  while(i <= len(s)-1):\n",
        "    a = k[(dic[s[i]]-2)%26]\n",
        "    f += a  # s = s.replace(s[i],a,1)\n",
        "    i += 1\n",
        "  return f\n",
        "\n",
        " # print(alph)\n",
        "print(decrypt_message(\"cde\"))\n",
        "print(decrypt_message(\"zab\"))\n",
        "print(decrypt_message(\"\"))"
      ]
    },
    {
      "cell_type": "markdown",
      "metadata": {
        "id": "LDKoTj1NEFdY"
      },
      "source": [
        "#Ex10:\n",
        "\n",
        "Define a word_lengths function that accepts a string.\n",
        "It should return a list with the lengths of each word.\n",
        "\n",
        " EXAMPLES\n",
        "* word_lengths(\"Mary Poppins was a nanny\")  => [4, 7, 3, 1, 5]\n",
        "* word_lengths(\"Somebody stole my donut\")   => [8, 5, 2, 5]"
      ]
    },
    {
      "cell_type": "code",
      "execution_count": 2,
      "metadata": {
        "colab": {
          "base_uri": "https://localhost:8080/"
        },
        "id": "mou8C2sav7pS",
        "outputId": "588f0142-200f-4fc7-86ac-29959374f837"
      },
      "outputs": [
        {
          "name": "stdout",
          "output_type": "stream",
          "text": [
            "[4, 7, 3, 1, 5]\n",
            "[8, 5, 2, 5]\n"
          ]
        }
      ],
      "source": [
        "# Write your code here\n",
        "\n",
        "# Recall this word function from my notebook on Intro_to_Python_Tutorial_2025\n",
        "\n",
        "def word(s):\n",
        "  char_list = s.split(' ')\n",
        "  val = \"\"\n",
        "  while val in char_list:\n",
        "    char_list.remove(val)\n",
        "  char_list\n",
        "  return char_list\n",
        "def word_length(s):\n",
        "  a = word(s)\n",
        "  return [len(i) for i in a]\n",
        "\n",
        "print(word_length(\"Mary Poppins was a nanny\"))\n",
        "print(word_length(\"Somebody stole my donut\"))"
      ]
    },
    {
      "cell_type": "markdown",
      "metadata": {
        "id": "WFRV5VYbEWEd"
      },
      "source": [
        "# Ex11:\n",
        "\n",
        "Define a cleanup function that accepts a list of strings.\n",
        "The function should return the strings joined together by a space.\n",
        "There's one BIG problem -- some of the strings are empty or only consist of spaces!\n",
        "These should NOT be included in the final string\n",
        "#\n",
        "* cleanup([\"cat\", \"er\", \"pillar\"])           => \"cat er pillar\"\n",
        "* cleanup([\"cat\", \" \", \"er\", \"\", \"pillar\"])  => \"cat er pillar\"\n",
        "* cleanup([\"\", \"\", \" \"])                     => \"\"\n"
      ]
    },
    {
      "cell_type": "code",
      "execution_count": 3,
      "metadata": {
        "colab": {
          "base_uri": "https://localhost:8080/"
        },
        "id": "x3E0yruswBSn",
        "outputId": "4925bd15-f67e-4d65-a334-7a8c24923713"
      },
      "outputs": [
        {
          "name": "stdout",
          "output_type": "stream",
          "text": [
            "First output:     cat er pillar\n",
            "Second output:     cat er pillar\n",
            "Third output:    \n"
          ]
        }
      ],
      "source": [
        "# Write your code here\n",
        "\n",
        "def word(s):\n",
        "  char_list = s.split(' ')\n",
        "  val = \"\"\n",
        "  while val in char_list:\n",
        "    char_list.remove(val)\n",
        "  char_list\n",
        "  return char_list\n",
        "\n",
        "def cleanup(l):\n",
        "  s = ' '\n",
        "  for i in l:\n",
        "    s += ' ' + i\n",
        "  b = word(s)\n",
        "  t = ''\n",
        "  for i in b:\n",
        "    t += ' ' + i\n",
        "  return t\n",
        "print(\"First output:   \",cleanup([\"cat\", \"er\", \"pillar\"]))\n",
        "print(\"Second output:   \",cleanup([\"cat \", \" \", \"er\", \"\", \"pillar\"]))\n",
        "print(\"Third output:   \",cleanup([\"\", \"\", \" \"]))\n"
      ]
    },
    {
      "cell_type": "markdown",
      "metadata": {
        "id": "nIyrVVFDEnHE"
      },
      "source": [
        "# Ex12:\n",
        "\n",
        "Define a nested_sum function that accepts a list of lists of numbers\n",
        "The function should return the sum of the values\n",
        " The list may contain empty lists\n",
        "\n",
        " EXAMPLES\n",
        "* nested_sum([[1, 2, 3], [4, 5]])            =&gt; 15\n",
        "* nested_sum([[1, 2, 3], [], [], [4], [5]])  =&gt; 15\n",
        "* nested_sum([[]])   "
      ]
    },
    {
      "cell_type": "code",
      "execution_count": null,
      "metadata": {
        "colab": {
          "base_uri": "https://localhost:8080/"
        },
        "id": "iL1WpI0lwE9Y",
        "outputId": "07ae92db-18b4-4760-bb63-4d5503ead22f"
      },
      "outputs": [
        {
          "data": {
            "text/plain": [
              "15"
            ]
          },
          "execution_count": 3,
          "metadata": {},
          "output_type": "execute_result"
        }
      ],
      "source": [
        "# Write your code here\n",
        "def nested_sum(lst):\n",
        "  s = 0\n",
        "  for elt in lst:\n",
        "    l = len(elt)\n",
        "    if l == 0:\n",
        "      continue\n",
        "    else:\n",
        "      for i in range(l):\n",
        "        s += elt[i]\n",
        "  return s\n",
        "\n",
        "nested_sum([[1, 2, 3], [4, 5]])"
      ]
    },
    {
      "cell_type": "code",
      "execution_count": null,
      "metadata": {
        "colab": {
          "base_uri": "https://localhost:8080/"
        },
        "id": "1VW9EnNlfL0m",
        "outputId": "30500907-ee04-4c24-9cdf-71fb2fcb0009"
      },
      "outputs": [
        {
          "data": {
            "text/plain": [
              "15"
            ]
          },
          "execution_count": 4,
          "metadata": {},
          "output_type": "execute_result"
        }
      ],
      "source": [
        "nested_sum([[1, 2, 3], [], [], [4], [5]])"
      ]
    },
    {
      "cell_type": "code",
      "execution_count": null,
      "metadata": {
        "colab": {
          "base_uri": "https://localhost:8080/"
        },
        "id": "IYEhxZSsfNwq",
        "outputId": "416c8f49-076a-45ed-c60c-5d29aaa97b58"
      },
      "outputs": [
        {
          "data": {
            "text/plain": [
              "0"
            ]
          },
          "execution_count": 5,
          "metadata": {},
          "output_type": "execute_result"
        }
      ],
      "source": [
        "nested_sum([[]])"
      ]
    },
    {
      "cell_type": "markdown",
      "metadata": {
        "id": "qR-UrTXyH3P6"
      },
      "source": [
        "#Ex13:\n",
        "Create a dictionary representing a person (include name, age, and city). Write a program to:\n",
        "\n",
        "* Print the person's information.\n",
        "* Update the person's age.\n",
        "* Add a new key-value pair for the person's occupation.\n",
        "* Display the updated dictionary."
      ]
    },
    {
      "cell_type": "code",
      "execution_count": null,
      "metadata": {
        "colab": {
          "base_uri": "https://localhost:8080/"
        },
        "id": "Hlpnr_thsp-e",
        "outputId": "d81a0f2e-10d1-41e6-e1d7-5d1fd59e9ad2"
      },
      "outputs": [
        {
          "name": "stdout",
          "output_type": "stream",
          "text": [
            "***First question***\n",
            "\n",
            "Name:  Jordan \n",
            "\n",
            "Age:  23 \n",
            "\n",
            "City:  Bafoussam \n",
            "\n",
            "***Second question***\n",
            "\n",
            "Name:  Jordan \n",
            "\n",
            "Age:  27 \n",
            "\n",
            "City:  Bafoussam \n",
            "\n",
            "***Third question***\n",
            "\n",
            "Name:  Jordan \n",
            "\n",
            "Age:  27 \n",
            "\n",
            "City:  Bafoussam \n",
            "\n",
            "Occupation:  Student \n",
            "\n"
          ]
        }
      ],
      "source": [
        "# Write your code here\n",
        "\n",
        "# Creating the dictionary\n",
        "info = {'Name': 'Jordan', 'Age': 23, 'City': 'Bafoussam'}\n",
        "\n",
        "# Defining a printing function\n",
        "def print_info(dic):\n",
        "  for key in dic.keys():\n",
        "    print(f\"{key}: \",info[key],\"\\n\")\n",
        "\n",
        "# Printing the user's information\n",
        "print(\"***First question***\\n\")\n",
        "print_info(info)\n",
        "\n",
        "# Updating the user's age\n",
        "info[\"Age\"] = 27\n",
        "# Printing the user's information\n",
        "print(\"***Second question***\\n\")\n",
        "print_info(info)\n",
        "\n",
        "# Adding a new information\n",
        "info[\"Occupation\"] = \"Student\"\n",
        "print(\"***Third question***\\n\")\n",
        "print_info(info)"
      ]
    },
    {
      "cell_type": "markdown",
      "metadata": {
        "id": "Vw-3fHSNFoWC"
      },
      "source": [
        "# Ex14:\n",
        "\n",
        "Many organizations have user ids which are constrained in some way. Imagine you work at an internet service provider and the user ids are all two letters followed by two numbers (e.g. aa49). Your task at such an organization might be to hold a record on the billing activity for each possible user.\n",
        "\n",
        "Write an initialization line as a single list comprehension which creates a list of all possible user ids. Assume the letters are all lower case."
      ]
    },
    {
      "cell_type": "code",
      "execution_count": null,
      "metadata": {
        "colab": {
          "base_uri": "https://localhost:8080/"
        },
        "id": "lBlaus6ZwKRr",
        "outputId": "13aa5158-e2da-47fd-c554-9140d865f549"
      },
      "outputs": [
        {
          "data": {
            "text/plain": [
              "67600"
            ]
          },
          "execution_count": 29,
          "metadata": {},
          "output_type": "execute_result"
        }
      ],
      "source": [
        "# Write your code here\n",
        "lower_cases = ['a','b','c','d','e','f','g','h','i','j','k','l',\n",
        "               'm','n','o','p','q','r','s','t','u','v','w','x','y','z']\n",
        "lst_ids = [f'{a}+{b}+str{c}+str{d}' for a in lower_cases\n",
        "           for b in lower_cases\n",
        "           for c in range(10)\n",
        "           for d in range(10)]\n",
        "len(lst_ids)"
      ]
    },
    {
      "cell_type": "code",
      "execution_count": null,
      "metadata": {
        "id": "zoEK-zYA2Rym"
      },
      "outputs": [],
      "source": []
    },
    {
      "cell_type": "markdown",
      "metadata": {
        "id": "hCecXHVOFaWG"
      },
      "source": [
        "# Ex15:\n",
        "Ask the user to enter a password, then:\n",
        "\n",
        "*   check if it contains uppercase letters, lowercase letters, numbers and special characters.\n",
        "*   Give feedback to the user(\"Strong password!\" or \" The password should include a mix of uppercase letters, lowercase letters, numbers, and special characters.\" ).\n",
        "\n"
      ]
    },
    {
      "cell_type": "code",
      "execution_count": null,
      "metadata": {
        "colab": {
          "base_uri": "https://localhost:8080/"
        },
        "id": "ik9Jg2XbGmcR",
        "outputId": "43c383e5-6afe-494c-cf03-a1fc8b999e1a"
      },
      "outputs": [
        {
          "name": "stdout",
          "output_type": "stream",
          "text": [
            "Write a strong password: bnokjvh7\n",
            "Strong password\n"
          ]
        }
      ],
      "source": [
        "# Write your code here\n",
        "\n",
        "def password(p):\n",
        "  lower_cases = ['a','b','c','d','e','f','g','h','i','j','k','l',\n",
        "               'm','n','o','p','q','r','s','t','u','v','w','x','y','z']\n",
        "  upper_cases = [i.upper() for i in lower_cases]\n",
        "  nums = range(10)\n",
        "  has_spe = False\n",
        "  Good = \"Strong password\"\n",
        "  Bad = \" The password should include a mix of uppercase letters,\"\n",
        "  Bad += \"lowercase letters, numbers, and special characters.\"\n",
        "  for i in p:\n",
        "    if not ((i in lower_cases) | (i in upper_cases) | (i in nums) | (i ==' ')):\n",
        "      has_spe = True\n",
        "  if has_spe:\n",
        "    print(Good)\n",
        "  else:\n",
        "    print(Bad)\n",
        "  return has_spe\n",
        "\n",
        "\n",
        "# Asking a user to write a password\n",
        "\n",
        "p = input(\"Write a strong password: \")\n",
        "while (password(p) == False):\n",
        "  p = input(\"Write a strong password: \")"
      ]
    },
    {
      "cell_type": "markdown",
      "metadata": {
        "id": "rR0les2KG-2C"
      },
      "source": [
        "# Ex16:\n",
        "\n",
        "Declare a sum_of_evens_and_odds function that accepts a tuple of numbers.\n",
        "#### It should return a tuple with two numeric values:\n",
        " - the sum of the even numbers\n",
        " - the sum of the odd numbers.\n",
        "* sum_of_evens_and_odds((1, 2, 3, 4))   => (6, 4)\n",
        "* sum_of_evens_and_odds((1, 3, 5))      => (0, 9)\n",
        "* sum_of_evens_and_odds((2, 4, 6))      => (12, 0)\n"
      ]
    },
    {
      "cell_type": "code",
      "execution_count": null,
      "metadata": {
        "colab": {
          "base_uri": "https://localhost:8080/"
        },
        "id": "i1QUrg1qHEAf",
        "outputId": "0c76d28d-debf-4a77-f1af-13ddb9d4d97c"
      },
      "outputs": [
        {
          "name": "stdout",
          "output_type": "stream",
          "text": [
            "(6, 4)\n",
            "(0, 9)\n",
            "(12, 0)\n"
          ]
        }
      ],
      "source": [
        "# Write your code here\n",
        "\n",
        "def sum_of_evens_and_odds(tup):\n",
        "  sum_even = 0\n",
        "  sum_odd = 0\n",
        "  for i in tup:\n",
        "    if (i % 2 == 0):\n",
        "      sum_even += i\n",
        "    else:\n",
        "      sum_odd += i\n",
        "  return sum_even, sum_odd\n",
        "\n",
        "print(sum_of_evens_and_odds((1, 2, 3, 4)))\n",
        "print(sum_of_evens_and_odds((1, 3, 5)))\n",
        "print(sum_of_evens_and_odds((2, 4, 6)))"
      ]
    },
    {
      "cell_type": "markdown",
      "metadata": {
        "id": "zN-lIAX6PBv_"
      },
      "source": [
        "# Ex17:\n",
        "\n",
        "Define a length_counts function that accepts a list of strings.\n",
        "The function should return a dictionary where the keys represent\n",
        " length and the values represent how many strings have that length.\n",
        "\n",
        " EXAMPLE:\n",
        "* sa_countries = [\"Brazil\", \"Venezuela\", \"Argentina\", \"Ecuador\", \"Bolivia\", \"Peru\"]\n",
        "* length_counts(sa_countries) =&gt; # {6: 1, 9: 2, 7: 2, 4: 1}\n",
        "* There is 1 string with 6 letters, 2 strings with 9 letters,\n",
        "* 2 strings with 7 letters, and 1 string with 4 letters."
      ]
    },
    {
      "cell_type": "code",
      "execution_count": null,
      "metadata": {
        "colab": {
          "base_uri": "https://localhost:8080/"
        },
        "id": "XQNXxohDPI2a",
        "outputId": "a886e580-4584-4f8e-8a60-9f6de01e7c2f"
      },
      "outputs": [
        {
          "data": {
            "text/plain": [
              "{6: 1, 9: 2, 7: 2, 4: 1}"
            ]
          },
          "execution_count": 48,
          "metadata": {},
          "output_type": "execute_result"
        }
      ],
      "source": [
        "# Write your code here\n",
        "\n",
        "def length_counts(l):\n",
        "  dic = {}\n",
        "  for i in l:\n",
        "    count = 1\n",
        "    for j in l:\n",
        "      if (len(i) == len(j)) & (i != j):\n",
        "        count += 1\n",
        "    dic[len(i)] = count\n",
        "  return dic\n",
        "\n",
        "length_counts([\"Brazil\", \"Venezuela\", \"Argentina\", \"Ecuador\", \"Bolivia\", \"Peru\"])\n"
      ]
    },
    {
      "cell_type": "markdown",
      "metadata": {
        "id": "18XGQlvusz41"
      },
      "source": [
        "# Ex18:\n",
        "\n",
        "Given two strings s and t, determine if they are isomorphic.\n",
        "\n",
        "Two strings s and t are isomorphic if the characters in s can be replaced to get t.\n",
        "\n",
        "All occurrences of a character must be replaced with another character while preserving the order of characters. No two characters may map to the same character, but a character may map to itself."
      ]
    },
    {
      "cell_type": "markdown",
      "metadata": {
        "id": "Y_nkzWLltAqh"
      },
      "source": [
        "Input: s = \"egg\", t = \"add\" <br>\n",
        "Output: true\n",
        "<br><br>\n",
        "Input: s = \"foo\", t = \"bar\" <br>\n",
        "Output: false"
      ]
    },
    {
      "cell_type": "code",
      "execution_count": null,
      "metadata": {
        "colab": {
          "base_uri": "https://localhost:8080/"
        },
        "id": "_6R7d_HHs7jX",
        "outputId": "c086d866-f109-489c-8921-8d6dab7095eb"
      },
      "outputs": [
        {
          "name": "stdout",
          "output_type": "stream",
          "text": [
            "True\n",
            "False\n"
          ]
        }
      ],
      "source": [
        "# Write your code here\n",
        "\n",
        "def isom(s, t):\n",
        "  if len(s)!=len(t):\n",
        "    return False\n",
        "  n = len(s)\n",
        "\n",
        "  # This dictionary will store the mapping\n",
        "\n",
        "  s_t = {}\n",
        "  t_s = {}\n",
        "\n",
        "  for i in range(n):\n",
        "\n",
        "    # Creating the mappings\n",
        "    map_s = s[i]\n",
        "    map_t = t[i]\n",
        "\n",
        "    # Checking if the map exist\n",
        "    if map_s in s_t:\n",
        "      if s_t[map_s] != map_t:\n",
        "        return False\n",
        "\n",
        "    elif map_t in t_s:\n",
        "      if t_s[map_t] != map_s:\n",
        "        return False\n",
        "\n",
        "    else:\n",
        "      # Adding the mapping to the dictionary\n",
        "\n",
        "      t_s[map_t] = map_s\n",
        "      s_t[map_s] = map_t\n",
        "  return True\n",
        "\n",
        "s1 = \"egg\"\n",
        "t1 = \"add\"\n",
        "print(isom(s1, t1))\n",
        "\n",
        "s2 = \"foo\"\n",
        "t2 = \"bar\"\n",
        "print(isom(s2, t2))"
      ]
    },
    {
      "cell_type": "markdown",
      "metadata": {
        "id": "ZwDgOtitva28"
      },
      "source": [
        "# Ex19:\n",
        "\n",
        " Dot product of vectors: <br>\n",
        "\n",
        "Vectors are mathematical objects that are often used to represent the inputs to neural networks. One way to view the vectors is as list of items. Complete the following code to compute dot product of two vectors. Dot product is defined the following equation:-\n",
        "</font>\n",
        "\n",
        "$$\n",
        "x.y = <x, y> = x^Ty = \\sum_{i}^n x_iy_i\n",
        "$$\n",
        "\n",
        "<font  color=\"white\">\n",
        "Assume that only lists are passed to the function and they also contain only numeric datatype.\n",
        "\n",
        "</font>"
      ]
    },
    {
      "cell_type": "code",
      "execution_count": null,
      "metadata": {
        "colab": {
          "base_uri": "https://localhost:8080/"
        },
        "id": "hP7lPZtWv3Ot",
        "outputId": "0af08627-bedb-4e33-dd8a-5dc26d0a71f4"
      },
      "outputs": [
        {
          "data": {
            "text/plain": [
              "10"
            ]
          },
          "execution_count": 9,
          "metadata": {},
          "output_type": "execute_result"
        }
      ],
      "source": [
        "# Write your code here\n",
        "\n",
        "def dot(a,b):\n",
        "  s = 0\n",
        "  n = len(b)\n",
        "  if len(a) == n:\n",
        "    for i in range(n):\n",
        "      s += a[i]*b[i]\n",
        "    return s\n",
        "  else:\n",
        "    print(\"The length are inconsistent\")\n",
        "\n",
        "\n",
        "dot([1,2,5,2,-3],[1,2,1,3,2])"
      ]
    },
    {
      "cell_type": "markdown",
      "metadata": {
        "id": "M8uSZ_oewecj"
      },
      "source": [
        "# Ex20:\n",
        "\n",
        "Write a function MatMul that multiplies two 2D matrices A and B and returns the result\n",
        "\n",
        "Validate you code using:\n",
        "\n",
        "```\n",
        "A = [ [1,2,3],[4,5,6] ]\n",
        "B = [ [4,5], [1,2], [0, 1] ]\n",
        "\n",
        "\n",
        "```"
      ]
    },
    {
      "cell_type": "code",
      "execution_count": null,
      "metadata": {
        "colab": {
          "base_uri": "https://localhost:8080/"
        },
        "id": "sKKwisC5wuZq",
        "outputId": "5ecd81e0-766f-4a2e-f8a9-760fac628438"
      },
      "outputs": [
        {
          "name": "stdout",
          "output_type": "stream",
          "text": [
            "[[6, 12], [21, 36]]\n",
            "Congrats, It is working\n"
          ]
        }
      ],
      "source": [
        "def MatMul(A, B):\n",
        "  ##### WRITE YOUR CODE HERE #####\n",
        "  l = len(A)\n",
        "  m = len(B[0])\n",
        "  k = len(B)\n",
        "  n = len(A[0])\n",
        "  C = [[0 for i in range(m)] for j in range(l)]\n",
        "  # print(l, m)\n",
        "  if n == k:\n",
        "    for i in range(n):\n",
        "      for j in range(l):\n",
        "        for t in range(m):\n",
        "          C[j][t] += A[j][i]*B[i][t]\n",
        "    # print(C)\n",
        "    return C\n",
        "  else:\n",
        "    print(\"We can't do the matrix multiplication\")\n",
        "  #### END CODE ####\n",
        "\n",
        "\n",
        "A = [ [1,2,3],[4,5,6]]\n",
        "B = [ [4,5], [1,2], [0, 1] ]\n",
        "print(MatMul(A, B))\n",
        "assert MatMul(A, B)==[[6, 12], [21, 36]], \"Your implementation is not correct\"\n",
        "print(\"Congrats, It is working\")"
      ]
    },
    {
      "cell_type": "markdown",
      "metadata": {
        "id": "BZcW3Dk_eJoz"
      },
      "source": [
        "#Ex21:\n",
        "\n",
        "<b> Given a list l, reverse l.\n",
        "Ex= [1,2,3,4,5] ==> [5,4,3,2,1]. In this case the operation has to be done in-place. Do not allow new memory space</b>\n",
        "\n",
        "DON't USE THE PYTHON INDEXING [::-1]"
      ]
    },
    {
      "cell_type": "code",
      "execution_count": null,
      "metadata": {
        "colab": {
          "base_uri": "https://localhost:8080/"
        },
        "id": "t2nH7TUMeR9S",
        "outputId": "be09ba98-9c38-4dc1-ca49-27b59b0d9f83"
      },
      "outputs": [
        {
          "data": {
            "text/plain": [
              "[0, 9, 8, 7, 6, 5, 4, 3, 2, 1]"
            ]
          },
          "execution_count": 48,
          "metadata": {},
          "output_type": "execute_result"
        }
      ],
      "source": [
        "# Write your code here\n",
        "\n",
        "def rev(l):\n",
        "  for i in range(0,len(l)//2):\n",
        "    l[i],l[len(l)-1-i] = l[len(l)-1-i], l[i]\n",
        "  return l\n",
        "a = [1,2,3,4,5,6,7,8,9,0]\n",
        "rev(a)"
      ]
    },
    {
      "cell_type": "markdown",
      "metadata": {
        "id": "7t8LhgVbespH"
      },
      "source": [
        "# Ex22:\n",
        "\n",
        "<b> Given a string s, check whether s is a palindrome. s is the palindrome if s is equal to its reverse.Using:\n",
        "- slicing in python\n",
        "- loop.</b>\n",
        "\n",
        "example : s='aba' is a palindrom\n",
        "s='abaa' isnot a palindrom"
      ]
    },
    {
      "cell_type": "code",
      "execution_count": null,
      "metadata": {
        "colab": {
          "base_uri": "https://localhost:8080/"
        },
        "id": "tLIuX7ASesVx",
        "outputId": "e1ad48ed-19d6-4e54-988d-cdeb90e31253"
      },
      "outputs": [
        {
          "name": "stdout",
          "output_type": "stream",
          "text": [
            "This string is a palindrome\n",
            "True\n",
            "This string is not a palindrome\n",
            "False\n"
          ]
        }
      ],
      "source": [
        "# Write your code here\n",
        "\n",
        "def palindrome(s):\n",
        "  if s == s[::-1]:\n",
        "    print(\"This string is a palindrome\")\n",
        "    return True\n",
        "  else:\n",
        "    print(\"This string is not a palindrome\")\n",
        "    return False\n",
        "\n",
        "print(palindrome('aba'))\n",
        "print(palindrome('abaa'))"
      ]
    },
    {
      "cell_type": "markdown",
      "metadata": {
        "id": "u5vdU3SBiUqd"
      },
      "source": [
        "# Ex23:\n",
        "\n",
        "Find the factorial of a given number:\n",
        "\n",
        "Write a program to use the loop to find the factorial of a given number.\n",
        "\n",
        "The factorial (symbol: !) means to multiply all whole numbers from the chosen number down to 1.\n",
        "\n",
        "For example: calculate the factorial of 5"
      ]
    },
    {
      "cell_type": "code",
      "execution_count": null,
      "metadata": {
        "colab": {
          "base_uri": "https://localhost:8080/"
        },
        "id": "TPzmWdq7ieiu",
        "outputId": "82e303d6-de71-4146-c8fb-c22cfd9e3496"
      },
      "outputs": [
        {
          "data": {
            "text/plain": [
              "120"
            ]
          },
          "execution_count": 58,
          "metadata": {},
          "output_type": "execute_result"
        }
      ],
      "source": [
        "# Write your code here\n",
        "\n",
        "def facto(n):\n",
        "  f = 1\n",
        "  while (n > 1):\n",
        "    f *= n\n",
        "    n -= 1\n",
        "  return f\n",
        "\n",
        "facto(5)"
      ]
    },
    {
      "cell_type": "markdown",
      "metadata": {
        "id": "G6evsWkHimeY"
      },
      "source": [
        "# Ex24:\n",
        "\n",
        "Display Fibonacci series up to 10 terms:\n",
        "\n",
        "The Fibonacci Sequence is a series of numbers. The next number is found by adding up the two numbers before it. The first two numbers are 0 and 1.\n",
        "\n",
        "For example, 0, 1, 1, 2, 3, 5, 8, 13, 21. The next number in this series above is 13+21 = 34."
      ]
    },
    {
      "cell_type": "code",
      "execution_count": null,
      "metadata": {
        "colab": {
          "base_uri": "https://localhost:8080/"
        },
        "id": "aZC6D0VOiq4F",
        "outputId": "05bed253-7d71-4650-b60c-32629b607538"
      },
      "outputs": [
        {
          "name": "stdout",
          "output_type": "stream",
          "text": [
            "0 \n",
            "\n",
            "1 \n",
            "\n",
            "1 \n",
            "\n",
            "2 \n",
            "\n",
            "3 \n",
            "\n",
            "5 \n",
            "\n",
            "8 \n",
            "\n",
            "13 \n",
            "\n",
            "21 \n",
            "\n",
            "34 \n",
            "\n",
            "55 \n",
            "\n"
          ]
        }
      ],
      "source": [
        "# Write your code here\n",
        "\n",
        "def Fibon(k_terms = 10):\n",
        "  a = 0\n",
        "  b = 1\n",
        "  print(a,\"\\n\")\n",
        "  print(b,\"\\n\")\n",
        "  for i in range(2,k_terms+1):\n",
        "    c = a + b\n",
        "    a = b\n",
        "    b = c\n",
        "    print(c,\"\\n\")\n",
        "Fibon(10)"
      ]
    },
    {
      "cell_type": "markdown",
      "metadata": {
        "id": "5XdX6KBqi2S1"
      },
      "source": [
        "# Ex25:\n",
        "\n",
        "- Write a program to display all prime numbers within a range.\n",
        "\n",
        "- range\n",
        "start = 19\n",
        "end = 70"
      ]
    },
    {
      "cell_type": "code",
      "execution_count": null,
      "metadata": {
        "colab": {
          "base_uri": "https://localhost:8080/"
        },
        "id": "wmxegZhOi9qb",
        "outputId": "d232a579-3d10-4f73-b1a9-52a18e9a167c"
      },
      "outputs": [
        {
          "name": "stdout",
          "output_type": "stream",
          "text": [
            "19 \n",
            "\n",
            "23 \n",
            "\n",
            "29 \n",
            "\n",
            "31 \n",
            "\n",
            "37 \n",
            "\n",
            "41 \n",
            "\n",
            "43 \n",
            "\n",
            "47 \n",
            "\n",
            "53 \n",
            "\n",
            "59 \n",
            "\n",
            "61 \n",
            "\n",
            "67 \n",
            "\n"
          ]
        }
      ],
      "source": [
        "# Write your code here\n",
        "\n",
        "def prime(start = 19, end = 70):\n",
        "  for i in range(start, end+1):\n",
        "    d = 0\n",
        "    for j in range(2, i//2):\n",
        "      if (i % j == 0):\n",
        "        d += 1\n",
        "    if d != 0:\n",
        "      continue\n",
        "    else:\n",
        "      print(i,\"\\n\")\n",
        "\n",
        "prime()\n"
      ]
    },
    {
      "cell_type": "markdown",
      "metadata": {
        "id": "ndYKDm2JHr39"
      },
      "source": [
        "#Ex26:\n",
        "Write a program to copy the contents of one text file (input.txt) to another file (output.txt). Handle the case where file1 does not exist."
      ]
    },
    {
      "cell_type": "code",
      "execution_count": null,
      "metadata": {
        "id": "uE0h7JNcvsb_"
      },
      "outputs": [],
      "source": [
        "# Write your code here\n",
        "\n",
        "import os\n",
        "\n",
        "def copy_file(input_file, output_file):\n",
        "  a, b = input_file, output_file\n",
        "\n",
        "  # Check if the input file exists\n",
        "  if not os.path.exists(a):\n",
        "    print(f\"Error: Input file '{a}' does not exist.\")\n",
        "    return\n",
        "\n",
        "  # Open the input and output files\n",
        "  with open(a, 'r') as input_file, open(b, 'w') as b:\n",
        "\n",
        "    # Read and write the contents\n",
        "    for line in input_file:\n",
        "      b.write(line)\n",
        "\n",
        "  print(f\"Contents of '{a}' copied to '{b}' successfully.\")\n"
      ]
    },
    {
      "cell_type": "code",
      "execution_count": null,
      "metadata": {
        "colab": {
          "base_uri": "https://localhost:8080/"
        },
        "id": "Mx1Rrt0CsgqC",
        "outputId": "1ba1bf9e-a225-4669-c524-60bd1479a77d"
      },
      "outputs": [
        {
          "name": "stdout",
          "output_type": "stream",
          "text": [
            "Drive already mounted at /content/drive; to attempt to forcibly remount, call drive.mount(\"/content/drive\", force_remount=True).\n"
          ]
        }
      ],
      "source": [
        "from google.colab import drive\n",
        "drive.mount('/content/drive')"
      ]
    },
    {
      "cell_type": "code",
      "execution_count": null,
      "metadata": {
        "colab": {
          "base_uri": "https://localhost:8080/"
        },
        "id": "Qp7uqzG1vd0B",
        "outputId": "8c22f2b1-398b-4c4f-81f1-58dd08a2e6d4"
      },
      "outputs": [
        {
          "name": "stdout",
          "output_type": "stream",
          "text": [
            "Contents of 'input.txt' copied to '<_io.TextIOWrapper name='output.txt' mode='w' encoding='UTF-8'>' successfully.\n"
          ]
        }
      ],
      "source": [
        "copy_file('input.txt','output.txt')"
      ]
    },
    {
      "cell_type": "code",
      "execution_count": null,
      "metadata": {
        "id": "8xeB3WTJvh3X"
      },
      "outputs": [],
      "source": []
    }
  ],
  "metadata": {
    "colab": {
      "provenance": []
    },
    "kernelspec": {
      "display_name": "Python 3",
      "name": "python3"
    },
    "language_info": {
      "name": "python"
    }
  },
  "nbformat": 4,
  "nbformat_minor": 0
}
